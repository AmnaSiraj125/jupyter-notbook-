{
 "cells": [
  {
   "cell_type": "markdown",
   "id": "9c5e64dc-2bc7-4640-9b71-877eda7b6100",
   "metadata": {},
   "source": [
    "<center>\n",
    "    <img src=\"https://cf-courses-data.s3.us.cloud-object-storage.appdomain.cloud/IBMDeveloperSkillsNetwork-DS0105EN-SkillsNetwork/labs/Module2/images/SN_web_lightmode.png\" width=\"300\" alt=\"cognitiveclass.ai logo\">\n",
    "</center>\n"
   ]
  },
  {
   "cell_type": "markdown",
   "id": "bca0d27a-24c6-4c43-b116-c73c8d9ab219",
   "metadata": {},
   "source": [
    "# Hands-on Lab: Create your Jupyter Notebook\n"
   ]
  },
  {
   "cell_type": "markdown",
   "id": "8b126e2f-912e-42e0-8d57-43862ac465fc",
   "metadata": {},
   "source": [
    "#### Add your code below following the instructions given in the course\n"
   ]
  },
  {
   "cell_type": "code",
   "execution_count": 1,
   "id": "e7ba372f-335a-4836-943b-f9cf0fa309b0",
   "metadata": {},
   "outputs": [],
   "source": [
    "# Notebook Title: Exploring Data Analysis with Python\n"
   ]
  },
  {
   "cell_type": "code",
   "execution_count": null,
   "metadata": {},
   "outputs": [],
   "source": [
    "## Introduction\n",
    "\n",
    "Welcome to this notebook on **Exploring Data Analysis with Python**. \n",
    "\n",
    "In this notebook, we will explore various techniques and tools used for data analysis using Python. From importing datasets to visualizing data, this notebook is designed to guide you through the essential steps of analyzing data efficiently and effectively. Whether you're a beginner or looking to refine your skills, this resource will provide valuable insights into the world of data analysis.\n",
    "\n",
    "Let's get started!\n"
   ]
  },
  {
   "cell_type": "code",
   "execution_count": null,
   "metadata": {},
   "outputs": [],
   "source": [
    "## Exercise 4 - List of Data Science Languages\n",
    "Some popular programming languages used in data science include:\n",
    "- Python\n",
    "- R\n",
    "- SQL\n",
    "- Julia\n",
    "- Scala"
   ]
  },
  {
   "cell_type": "code",
   "execution_count": null,
   "metadata": {},
   "outputs": [],
   "source": [
    "## Exercise 5 - List of Data Science Libraries\n",
    "Here are some widely-used libraries for data science:\n",
    "- **NumPy**: For numerical computing\n",
    "- **Pandas**: For data manipulation and analysis\n",
    "- **Matplotlib**: For data visualization\n",
    "- **Scikit-learn**: For machine learning\n",
    "- **TensorFlow**: For deep learning\n",
    "- **Keras**: For neural networks"
   ]
  },
  {
   "cell_type": "code",
   "execution_count": null,
   "metadata": {},
   "outputs": [],
   "source": [
    "## Exercise 6 - Table of Data Science Tools\n",
    "\n",
    " Tool                Purpose   \n",
    "    \n",
    " Jupyter Notebook    Interactive computing        \n",
    " RStudio             Statistical computing        \n",
    " Apache Hadoop       Big data processing          \n",
    " Tableau             Data visualization           \n",
    " Apache Spark        Distributed computing        \n"
   ]
  },
  {
   "cell_type": "code",
   "execution_count": null,
   "metadata": {},
   "outputs": [],
   "source": [
    "## Exercise 7 - Introducing Arithmetic Expression Examples\n",
    "Arithmetic expressions are mathematical formulas used in programming to perform operations like addition,\n",
    "subtraction, multiplication, and division. Below are some examples of how to use arithmetic expressions in Python.\n",
    "\n"
   ]
  },
  {
   "cell_type": "code",
   "execution_count": null,
   "metadata": {},
   "outputs": [],
   "source": [
    "## Exercise 8 - Code Cell to Multiply and Add Numbers\n",
    "```python\n",
    "# Multiplying and adding numbers\n",
    "result = (5 * 3) + 7\n",
    "print(\"The result of (5 * 3) + 7 is:\", result)"
   ]
  },
  {
   "cell_type": "code",
   "execution_count": null,
   "metadata": {},
   "outputs": [],
   "source": [
    "# Exercise 9 \n",
    "Converting minutes to hours\n",
    "minutes = 120\n",
    "hours = minutes / 60\n",
    "print(f\"{minutes} minutes is equal to {hours} hours.\")\n"
   ]
  },
  {
   "cell_type": "code",
   "execution_count": null,
   "metadata": {},
   "outputs": [],
   "source": [
    "Exercise 10 - Objectives\n",
    "The objectives of this notebook are:\n",
    "\n",
    "Understand key programming languages for data science.\n",
    "Explore popular data science libraries and tools.\n",
    "Practice arithmetic operations and coding exercises.\n",
    "Build confidence in using Python for data science tasks."
   ]
  },
  {
   "cell_type": "code",
   "execution_count": null,
   "metadata": {},
   "outputs": [],
   "source": [
    "Exercise 11 - Author's Name\n",
    "Author: Amna Siraj\n",
    "\n"
   ]
  }
 ],
 "metadata": {
  "kernelspec": {
   "display_name": "Python 3 (ipykernel)",
   "language": "python",
   "name": "python3"
  },
  "language_info": {
   "codemirror_mode": {
    "name": "ipython",
    "version": 3
   },
   "file_extension": ".py",
   "mimetype": "text/x-python",
   "name": "python",
   "nbconvert_exporter": "python",
   "pygments_lexer": "ipython3",
   "version": "3.11.5"
  },
  "prev_pub_hash": "9e1985db9844176462bd1d5863048c9f3d17404bbc6a648be9084b0c42b29347"
 },
 "nbformat": 4,
 "nbformat_minor": 4
}
